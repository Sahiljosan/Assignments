{
 "cells": [
  {
   "cell_type": "markdown",
   "id": "ddb4f423",
   "metadata": {},
   "source": [
    "Q1. In the below elements which of them are values or an expression? eg:- values can be integer or string and expressions will be mathematical operators.\n",
    "\n",
    "Ans\n",
    "\n",
    "    *   - Expressions"
   ]
  },
  {
   "cell_type": "markdown",
   "id": "a5f6e613",
   "metadata": {},
   "source": [
    "    'hello' - Value (String)"
   ]
  },
  {
   "cell_type": "markdown",
   "id": "8d9c5023",
   "metadata": {},
   "source": [
    "      -87.8 - Value (Float)"
   ]
  },
  {
   "cell_type": "markdown",
   "id": "b0324b7f",
   "metadata": {},
   "source": [
    "        -   -  Expressions"
   ]
  },
  {
   "cell_type": "markdown",
   "id": "e29e1163",
   "metadata": {},
   "source": [
    "     /      - Expressions"
   ]
  },
  {
   "cell_type": "markdown",
   "id": "d9d8b742",
   "metadata": {},
   "source": [
    "      +     - Expressions "
   ]
  },
  {
   "cell_type": "markdown",
   "id": "ed2e2f08",
   "metadata": {},
   "source": [
    "      6     - Value (Integer)"
   ]
  },
  {
   "cell_type": "markdown",
   "id": "8d05be2a",
   "metadata": {},
   "source": [
    "-----------------------------------------------------------------------------------------------------------------"
   ]
  },
  {
   "cell_type": "markdown",
   "id": "84e2372a",
   "metadata": {},
   "source": [
    "Q2. What is the difference between string and variable?\n",
    "\n",
    "And: \n",
    "A variable is a name that can be refer to any value.\n",
    "A String is a type of information you would store in a variable. strings are normally words enclosed with \"\".\n",
    "For eg: s = \"sahil josan\"\n",
    "\n",
    "Here s is variable and \"sahil josan\" is a string.\n",
    "\n",
    "\n",
    "\n"
   ]
  },
  {
   "cell_type": "markdown",
   "id": "b2574546",
   "metadata": {},
   "source": [
    "____________________________________________________________________________________________________________"
   ]
  },
  {
   "cell_type": "markdown",
   "id": "ff544377",
   "metadata": {},
   "source": [
    "Q3. Describe three different data types.?\n",
    "\n",
    "Answer: Three different data types are \n",
    "1) List (list) - Lists are used to store multiple items in a single variable .\n",
    "\n",
    "2) Tuple (tuple) - Tuple is a collection which is ordered and unchangeable. Allows duplicate members.\n",
    "\n",
    "3) Dictionary (dict) -  is a collection which is ordered and changeable. No duplicate members."
   ]
  },
  {
   "cell_type": "markdown",
   "id": "53d0cbfc",
   "metadata": {},
   "source": [
    "Example of list"
   ]
  },
  {
   "cell_type": "code",
   "execution_count": 1,
   "id": "3cd835ed",
   "metadata": {},
   "outputs": [],
   "source": [
    "l = [12, 254, 53.54, 1245.25, \"sahil\"]"
   ]
  },
  {
   "cell_type": "code",
   "execution_count": 2,
   "id": "d7cf8394",
   "metadata": {},
   "outputs": [
    {
     "data": {
      "text/plain": [
       "list"
      ]
     },
     "execution_count": 2,
     "metadata": {},
     "output_type": "execute_result"
    }
   ],
   "source": [
    "type(l)"
   ]
  },
  {
   "cell_type": "markdown",
   "id": "3a91ef80",
   "metadata": {},
   "source": [
    "Example of tuple"
   ]
  },
  {
   "cell_type": "code",
   "execution_count": 3,
   "id": "3969edb3",
   "metadata": {},
   "outputs": [],
   "source": [
    "t = (451, 547, 695, 124.57, \"josan\")"
   ]
  },
  {
   "cell_type": "code",
   "execution_count": 4,
   "id": "0dd4b102",
   "metadata": {},
   "outputs": [
    {
     "data": {
      "text/plain": [
       "tuple"
      ]
     },
     "execution_count": 4,
     "metadata": {},
     "output_type": "execute_result"
    }
   ],
   "source": [
    "type(t)"
   ]
  },
  {
   "cell_type": "markdown",
   "id": "fa046885",
   "metadata": {},
   "source": [
    "Example of Dictionary "
   ]
  },
  {
   "cell_type": "code",
   "execution_count": 5,
   "id": "553c2a43",
   "metadata": {},
   "outputs": [],
   "source": [
    "d = {45 : \"my\", \"name\" : \"is\", 124 : \"sahil\"}"
   ]
  },
  {
   "cell_type": "code",
   "execution_count": 6,
   "id": "301b59af",
   "metadata": {},
   "outputs": [
    {
     "data": {
      "text/plain": [
       "dict"
      ]
     },
     "execution_count": 6,
     "metadata": {},
     "output_type": "execute_result"
    }
   ],
   "source": [
    "type(d)"
   ]
  },
  {
   "cell_type": "markdown",
   "id": "86ac5a46",
   "metadata": {},
   "source": [
    "_____________________________________"
   ]
  },
  {
   "cell_type": "markdown",
   "id": "a0df67b8",
   "metadata": {},
   "source": [
    "Q4. What is an expression made up of?\n",
    "\n",
    "Ans: The expressions are made up of combinations of values and mathematical operators.\n",
    "\n",
    "    - What do all expressions do?\n",
    "\n",
    "Ans: All expressions combines the values and operators and evaluates down to a single value\n",
    "\n",
    "For Eg: 12 + 5 = 17\n",
    "Here 12 and 5 are integer values and + is mathematical operator. \n",
    "Expression 12 + 5 adds two integers and evaluates down to a single value 17.\n"
   ]
  },
  {
   "cell_type": "markdown",
   "id": "a160058f",
   "metadata": {},
   "source": [
    "_____________________________________________"
   ]
  },
  {
   "cell_type": "markdown",
   "id": "69603922",
   "metadata": {},
   "source": [
    "Q5. This assignment statements, like spam = 10. What is the difference between an\n",
    "expression and a statement?\n",
    "\n",
    "Ans: \n",
    "An Expression always evaluates to a value.\n",
    "A statement does something, like creating a variable or displaying a value.\n",
    "\n",
    "For example : spam = 10 + 2 \n",
    "Here 10 + 2 is an expression and spam = 10 + 2 is a statement."
   ]
  },
  {
   "cell_type": "markdown",
   "id": "21544c12",
   "metadata": {},
   "source": [
    "_________________________________"
   ]
  },
  {
   "cell_type": "markdown",
   "id": "bc8f8d39",
   "metadata": {},
   "source": [
    "Q6. After running the following code, what does the variable bacon contain?\n",
    "\n",
    "bacon = 22\n",
    "\n",
    "bacon + 1\n",
    "\n",
    "Ans : 23"
   ]
  },
  {
   "cell_type": "markdown",
   "id": "f5952693",
   "metadata": {},
   "source": [
    "_____________________________________"
   ]
  },
  {
   "cell_type": "markdown",
   "id": "197a4c36",
   "metadata": {},
   "source": [
    "Q7. What should the values of the following two terms be?"
   ]
  },
  {
   "cell_type": "code",
   "execution_count": 8,
   "id": "8eb8033e",
   "metadata": {},
   "outputs": [],
   "source": [
    "Q7 = 'spam'+'spamspam'"
   ]
  },
  {
   "cell_type": "code",
   "execution_count": 10,
   "id": "fe60b1c4",
   "metadata": {},
   "outputs": [
    {
     "data": {
      "text/plain": [
       "'spamspamspam'"
      ]
     },
     "execution_count": 10,
     "metadata": {},
     "output_type": "execute_result"
    }
   ],
   "source": [
    "Q7"
   ]
  },
  {
   "cell_type": "code",
   "execution_count": 11,
   "id": "675cfa22",
   "metadata": {},
   "outputs": [],
   "source": [
    "Q7 = 'spam'*3"
   ]
  },
  {
   "cell_type": "code",
   "execution_count": 12,
   "id": "9f467c8a",
   "metadata": {},
   "outputs": [
    {
     "data": {
      "text/plain": [
       "'spamspamspam'"
      ]
     },
     "execution_count": 12,
     "metadata": {},
     "output_type": "execute_result"
    }
   ],
   "source": [
    "Q7"
   ]
  },
  {
   "cell_type": "markdown",
   "id": "dd4e01ec",
   "metadata": {},
   "source": [
    "Ans of Q7 : Value of both terms is 'spamspamspam'"
   ]
  },
  {
   "cell_type": "markdown",
   "id": "bdc4c4f2",
   "metadata": {},
   "source": [
    "__________________________________________________________________________________________________________"
   ]
  },
  {
   "cell_type": "markdown",
   "id": "18066c35",
   "metadata": {},
   "source": [
    "Q8. Why is eggs a valid variable name while 100 is invalid?\n",
    "\n",
    "Ans:\n",
    "Eggs is a string means group of alphabets . and 100 is an integer.\n",
    "we cannot give variable an integer name.\n",
    "bt we can give e100 or eggs100 as an variable name. because it starts with an alphabet."
   ]
  },
  {
   "cell_type": "markdown",
   "id": "229fff9a",
   "metadata": {},
   "source": [
    "________________________________"
   ]
  },
  {
   "cell_type": "markdown",
   "id": "28ba43a4",
   "metadata": {},
   "source": [
    "Q9. What three functions can be used to get the integer, floating-point number, or string\n",
    "version of a value?\n",
    "\n",
    "Ans : int()\n",
    "      float()\n",
    "      str()"
   ]
  },
  {
   "cell_type": "markdown",
   "id": "ed95607a",
   "metadata": {},
   "source": [
    "_____________________________________"
   ]
  },
  {
   "cell_type": "markdown",
   "id": "92988dc9",
   "metadata": {},
   "source": [
    "Q10. Why does this expression cause an error? How can you fix it\n",
    "\n",
    "'I have eaten '+ 99 +'burritos.'\n",
    "\n",
    "Ans: This expression causes error because this string is enclosed with single inverted commas. it will execute if we enclose the string with double inverted commas like this.\n",
    "\"I have eaten'+ 99 +' burritos\""
   ]
  },
  {
   "cell_type": "markdown",
   "id": "7c37335d",
   "metadata": {},
   "source": [
    "__________________________"
   ]
  },
  {
   "cell_type": "code",
   "execution_count": null,
   "id": "e6a409b1",
   "metadata": {},
   "outputs": [],
   "source": []
  }
 ],
 "metadata": {
  "kernelspec": {
   "display_name": "Python 3 (ipykernel)",
   "language": "python",
   "name": "python3"
  },
  "language_info": {
   "codemirror_mode": {
    "name": "ipython",
    "version": 3
   },
   "file_extension": ".py",
   "mimetype": "text/x-python",
   "name": "python",
   "nbconvert_exporter": "python",
   "pygments_lexer": "ipython3",
   "version": "3.9.12"
  }
 },
 "nbformat": 4,
 "nbformat_minor": 5
}
