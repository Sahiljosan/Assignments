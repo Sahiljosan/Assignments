{
 "cells": [
  {
   "cell_type": "markdown",
   "id": "68ea649f",
   "metadata": {},
   "source": [
    "Q1. In the below elements which of them are values or an expression? eg:- values can be integer or string and expressions will be mathematical operators.\n",
    "\n",
    "Ans\n",
    "\n",
    "    *   - Expressions"
   ]
  },
  {
   "cell_type": "markdown",
   "id": "0593d917",
   "metadata": {},
   "source": [
    "    'hello' - Value (String)"
   ]
  },
  {
   "cell_type": "markdown",
   "id": "64db7a53",
   "metadata": {},
   "source": [
    "      -87.8 - Value (Float)"
   ]
  },
  {
   "cell_type": "markdown",
   "id": "bf7962e8",
   "metadata": {},
   "source": [
    "        -   -  Expressions"
   ]
  },
  {
   "cell_type": "markdown",
   "id": "4d6cf87d",
   "metadata": {},
   "source": [
    "     /      - Expressions"
   ]
  },
  {
   "cell_type": "markdown",
   "id": "5fb5d798",
   "metadata": {},
   "source": [
    "      +     - Expressions "
   ]
  },
  {
   "cell_type": "markdown",
   "id": "2bdba1a2",
   "metadata": {},
   "source": [
    "      6     - Value (Integer)"
   ]
  },
  {
   "cell_type": "markdown",
   "id": "4b2d6017",
   "metadata": {},
   "source": [
    "-----------------------------------------------------------------------------------------------------------------"
   ]
  },
  {
   "cell_type": "markdown",
   "id": "7745cb95",
   "metadata": {},
   "source": [
    "Q2. What is the difference between string and variable?\n",
    "\n",
    "And: \n",
    "A variable is a name that can be refer to any value.\n",
    "A String is a type of information you would store in a variable. strings are normally words enclosed with \"\".\n",
    "For eg: s = \"sahil josan\"\n",
    "\n",
    "Here s is variable and \"sahil josan\" is a string.\n",
    "\n",
    "\n",
    "\n"
   ]
  },
  {
   "cell_type": "markdown",
   "id": "aa561e6c",
   "metadata": {},
   "source": [
    "____________________________________________________________________________________________________________"
   ]
  },
  {
   "cell_type": "markdown",
   "id": "510fcf18",
   "metadata": {},
   "source": [
    "Q3. Describe three different data types.?\n",
    "\n",
    "Answer: Three different data types are \n",
    "1) List (list) - Lists are used to store multiple items in a single variable .\n",
    "\n",
    "2) Tuple (tuple) - Tuple is a collection which is ordered and unchangeable. Allows duplicate members.\n",
    "\n",
    "3) Dictionary (dict) -  is a collection which is ordered and changeable. No duplicate members."
   ]
  },
  {
   "cell_type": "markdown",
   "id": "ec80a326",
   "metadata": {},
   "source": [
    "Example of list"
   ]
  },
  {
   "cell_type": "code",
   "execution_count": 1,
   "id": "522c2e69",
   "metadata": {},
   "outputs": [],
   "source": [
    "l = [12, 254, 53.54, 1245.25, \"sahil\"]"
   ]
  },
  {
   "cell_type": "code",
   "execution_count": 2,
   "id": "3c307fa1",
   "metadata": {},
   "outputs": [
    {
     "data": {
      "text/plain": [
       "list"
      ]
     },
     "execution_count": 2,
     "metadata": {},
     "output_type": "execute_result"
    }
   ],
   "source": [
    "type(l)"
   ]
  },
  {
   "cell_type": "markdown",
   "id": "9d7bb6e5",
   "metadata": {},
   "source": [
    "Example of tuple"
   ]
  },
  {
   "cell_type": "code",
   "execution_count": 3,
   "id": "342cf9d2",
   "metadata": {},
   "outputs": [],
   "source": [
    "t = (451, 547, 695, 124.57, \"josan\")"
   ]
  },
  {
   "cell_type": "code",
   "execution_count": 4,
   "id": "33955f67",
   "metadata": {},
   "outputs": [
    {
     "data": {
      "text/plain": [
       "tuple"
      ]
     },
     "execution_count": 4,
     "metadata": {},
     "output_type": "execute_result"
    }
   ],
   "source": [
    "type(t)"
   ]
  },
  {
   "cell_type": "markdown",
   "id": "2173282a",
   "metadata": {},
   "source": [
    "Example of Dictionary "
   ]
  },
  {
   "cell_type": "code",
   "execution_count": 5,
   "id": "c8d87de8",
   "metadata": {},
   "outputs": [],
   "source": [
    "d = {45 : \"my\", \"name\" : \"is\", 124 : \"sahil\"}"
   ]
  },
  {
   "cell_type": "code",
   "execution_count": 6,
   "id": "f194e793",
   "metadata": {},
   "outputs": [
    {
     "data": {
      "text/plain": [
       "dict"
      ]
     },
     "execution_count": 6,
     "metadata": {},
     "output_type": "execute_result"
    }
   ],
   "source": [
    "type(d)"
   ]
  },
  {
   "cell_type": "markdown",
   "id": "6f3a2428",
   "metadata": {},
   "source": [
    "_____________________________________"
   ]
  },
  {
   "cell_type": "markdown",
   "id": "d7a59c56",
   "metadata": {},
   "source": [
    "Q4. What is an expression made up of?\n",
    "\n",
    "Ans: The expressions are made up of combinations of values and mathematical operators.\n",
    "\n",
    "    - What do all expressions do?\n",
    "\n",
    "Ans: All expressions combines the values and operators and evaluates down to a single value\n",
    "\n",
    "For Eg: 12 + 5 = 17\n",
    "Here 12 and 5 are integer values and + is mathematical operator. \n",
    "Expression 12 + 5 adds two integers and evaluates down to a single value 17.\n"
   ]
  },
  {
   "cell_type": "markdown",
   "id": "867e65c9",
   "metadata": {},
   "source": [
    "_____________________________________________"
   ]
  },
  {
   "cell_type": "markdown",
   "id": "25f26a97",
   "metadata": {},
   "source": [
    "Q5. This assignment statements, like spam = 10. What is the difference between an\n",
    "expression and a statement?\n",
    "\n",
    "Ans: \n",
    "An Expression always evaluates to a value.\n",
    "A statement does something, like creating a variable or displaying a value.\n",
    "\n",
    "For example : spam = 10 + 2 \n",
    "Here 10 + 2 is an expression and spam = 10 + 2 is a statement."
   ]
  },
  {
   "cell_type": "markdown",
   "id": "06bb590c",
   "metadata": {},
   "source": [
    "_________________________________"
   ]
  },
  {
   "cell_type": "markdown",
   "id": "225b2830",
   "metadata": {},
   "source": [
    "Q6. After running the following code, what does the variable bacon contain?\n",
    "\n",
    "bacon = 22\n",
    "\n",
    "bacon + 1\n",
    "\n",
    "Ans : 23"
   ]
  },
  {
   "cell_type": "markdown",
   "id": "9d3ac12d",
   "metadata": {},
   "source": [
    "_____________________________________"
   ]
  },
  {
   "cell_type": "markdown",
   "id": "8ec1e882",
   "metadata": {},
   "source": [
    "Q7. What should the values of the following two terms be?"
   ]
  },
  {
   "cell_type": "code",
   "execution_count": 8,
   "id": "6c41441a",
   "metadata": {},
   "outputs": [],
   "source": [
    "Q7 = 'spam'+'spamspam'"
   ]
  },
  {
   "cell_type": "code",
   "execution_count": 10,
   "id": "306223bb",
   "metadata": {},
   "outputs": [
    {
     "data": {
      "text/plain": [
       "'spamspamspam'"
      ]
     },
     "execution_count": 10,
     "metadata": {},
     "output_type": "execute_result"
    }
   ],
   "source": [
    "Q7"
   ]
  },
  {
   "cell_type": "code",
   "execution_count": 11,
   "id": "f93d35d2",
   "metadata": {},
   "outputs": [],
   "source": [
    "Q7 = 'spam'*3"
   ]
  },
  {
   "cell_type": "code",
   "execution_count": 12,
   "id": "c310d391",
   "metadata": {},
   "outputs": [
    {
     "data": {
      "text/plain": [
       "'spamspamspam'"
      ]
     },
     "execution_count": 12,
     "metadata": {},
     "output_type": "execute_result"
    }
   ],
   "source": [
    "Q7"
   ]
  },
  {
   "cell_type": "markdown",
   "id": "9e791572",
   "metadata": {},
   "source": [
    "Ans of Q7 : Value of both terms is 'spamspamspam'"
   ]
  },
  {
   "cell_type": "markdown",
   "id": "1b5e9e2f",
   "metadata": {},
   "source": [
    "__________________________________________________________________________________________________________"
   ]
  },
  {
   "cell_type": "markdown",
   "id": "9f1264e4",
   "metadata": {},
   "source": [
    "Q8. Why is eggs a valid variable name while 100 is invalid?\n",
    "\n",
    "Ans:\n",
    "Eggs is a string means group of alphabets . and 100 is an integer.\n",
    "we cannot give variable an integer name.\n",
    "bt we can give e100 or eggs100 as an variable name. because it starts with an alphabet."
   ]
  },
  {
   "cell_type": "markdown",
   "id": "3c810b59",
   "metadata": {},
   "source": [
    "________________________________"
   ]
  },
  {
   "cell_type": "markdown",
   "id": "a8d40cb9",
   "metadata": {},
   "source": [
    "Q9. What three functions can be used to get the integer, floating-point number, or string\n",
    "version of a value?\n",
    "\n",
    "Ans : int()\n",
    "      float()\n",
    "      str()"
   ]
  },
  {
   "cell_type": "markdown",
   "id": "e56c081f",
   "metadata": {},
   "source": [
    "_____________________________________"
   ]
  },
  {
   "cell_type": "markdown",
   "id": "32607c99",
   "metadata": {},
   "source": [
    "10. Why does this expression cause an error? How can you fix it\n",
    "\n",
    "'I have eaten '+ 99 +'burritos.'\n",
    "\n",
    "Ans: This expression causes error because this string is enclosed with single inverted commas. it will execute if we enclose the string with double inverted commas like this.\n",
    "\"I have eaten'+ 99 +' burritos\""
   ]
  },
  {
   "cell_type": "markdown",
   "id": "c549bf93",
   "metadata": {},
   "source": [
    "__________________________"
   ]
  },
  {
   "cell_type": "code",
   "execution_count": null,
   "id": "ed1bb18d",
   "metadata": {},
   "outputs": [],
   "source": []
  }
 ],
 "metadata": {
  "kernelspec": {
   "display_name": "Python 3 (ipykernel)",
   "language": "python",
   "name": "python3"
  },
  "language_info": {
   "codemirror_mode": {
    "name": "ipython",
    "version": 3
   },
   "file_extension": ".py",
   "mimetype": "text/x-python",
   "name": "python",
   "nbconvert_exporter": "python",
   "pygments_lexer": "ipython3",
   "version": "3.9.12"
  }
 },
 "nbformat": 4,
 "nbformat_minor": 5
}
