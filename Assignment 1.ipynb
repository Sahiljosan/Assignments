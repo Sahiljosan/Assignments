{
 "cells": [
  {
   "cell_type": "raw",
   "id": "6dafb277",
   "metadata": {},
   "source": [
    "Q1. In the below elements which of them are values or an expression? eg:- values can be integer or string and expressions will be mathematical operators.\n",
    "\n",
    "Ans\n",
    "    *   - Expressions\n",
    "'hello' - Value (String)\n",
    "  -87.8 - Value (Float)\n",
    "  -     - Expressions\n",
    "  /     - Expressions\n",
    "  +     - Expressions\n",
    "  6     - Value (Integer)"
   ]
  },
  {
   "cell_type": "raw",
   "id": "75880671",
   "metadata": {},
   "source": [
    "Q2. What is the difference between string and variable?\n",
    "\n",
    "And: \n",
    "A variable is a name that can be refer to any value.\n",
    "A String is a type of information you would store in a variable. strings are normally words enclosed with \"\".\n",
    "For eg: s = \"sahil josan\"\n",
    "\n",
    "Here s is variable and \"sahil josan\" is a string.\n"
   ]
  },
  {
   "cell_type": "raw",
   "id": "2ca4e34e",
   "metadata": {},
   "source": [
    "Q3. Describe three different data types.?\n",
    "\n",
    "Answer: Three different data types are \n",
    "1) List (list) - Lists are used to store multiple items in a single variable .\n",
    "2) Tuple (tuple) - Tuple is a collection which is ordered and unchangeable. Allows duplicate members.\n",
    "3) Dictionary (dict) -  is a collection which is ordered and changeable. No duplicate members."
   ]
  },
  {
   "cell_type": "markdown",
   "id": "61912b27",
   "metadata": {},
   "source": [
    "Example of list"
   ]
  },
  {
   "cell_type": "code",
   "execution_count": 1,
   "id": "17ed2859",
   "metadata": {},
   "outputs": [],
   "source": [
    "l = [12, 254, 53.54, 1245.25, \"sahil\"]"
   ]
  },
  {
   "cell_type": "code",
   "execution_count": 2,
   "id": "d6b9923e",
   "metadata": {},
   "outputs": [
    {
     "data": {
      "text/plain": [
       "list"
      ]
     },
     "execution_count": 2,
     "metadata": {},
     "output_type": "execute_result"
    }
   ],
   "source": [
    "type(l)"
   ]
  },
  {
   "cell_type": "markdown",
   "id": "9ee9cdc0",
   "metadata": {},
   "source": [
    "Example of tuple"
   ]
  },
  {
   "cell_type": "code",
   "execution_count": 3,
   "id": "9f4bb863",
   "metadata": {},
   "outputs": [],
   "source": [
    "t = (451, 547, 695, 124.57, \"josan\")"
   ]
  },
  {
   "cell_type": "code",
   "execution_count": 4,
   "id": "1b16553d",
   "metadata": {},
   "outputs": [
    {
     "data": {
      "text/plain": [
       "tuple"
      ]
     },
     "execution_count": 4,
     "metadata": {},
     "output_type": "execute_result"
    }
   ],
   "source": [
    "type(t)"
   ]
  },
  {
   "cell_type": "markdown",
   "id": "7ff62ffa",
   "metadata": {},
   "source": [
    "Example of Dictionary "
   ]
  },
  {
   "cell_type": "code",
   "execution_count": 5,
   "id": "55523a4f",
   "metadata": {},
   "outputs": [],
   "source": [
    "d = {45 : \"my\", \"name\" : \"is\", 124 : \"sahil\"}"
   ]
  },
  {
   "cell_type": "code",
   "execution_count": 6,
   "id": "2095a2f1",
   "metadata": {},
   "outputs": [
    {
     "data": {
      "text/plain": [
       "dict"
      ]
     },
     "execution_count": 6,
     "metadata": {},
     "output_type": "execute_result"
    }
   ],
   "source": [
    "type(d)"
   ]
  },
  {
   "cell_type": "raw",
   "id": "f87b7123",
   "metadata": {},
   "source": [
    "Q4. What is an expression made up of?\n",
    "Ans: The expressions are made up of combinations of values and mathematical operators.\n",
    "\n",
    "- What do all expressions do?\n",
    "Ans: All expressions combines the values and operators and evaluates down to a single value\n",
    "For Eg: 12 + 5 = 17\n",
    "Here 12 and 5 are integer values and + is mathematical operator. Expression 12 + 5 adds two integers and evaluates down to a single value 17.\n"
   ]
  },
  {
   "cell_type": "raw",
   "id": "aca6b314",
   "metadata": {},
   "source": [
    "Q5. This assignment statements, like spam = 10. What is the difference between an\n",
    "expression and a statement?\n",
    "\n",
    "Ans: \n",
    "An Expression always evaluates to a value.\n",
    "A statement does something, like creating a variable or displaying a value.\n",
    "\n",
    "For example : spam = 10 + 2 \n",
    "Here 10 + 2 is an expression and spam = 10 + 2 is a statement."
   ]
  },
  {
   "cell_type": "raw",
   "id": "70a689ef",
   "metadata": {},
   "source": [
    "Q6. After running the following code, what does the variable bacon contain?\n",
    "bacon = 22\n",
    "bacon + 1\n",
    "\n",
    "Ans : 23"
   ]
  },
  {
   "cell_type": "raw",
   "id": "b51f2a43",
   "metadata": {},
   "source": [
    "Q7. What should the values of the following two terms be?"
   ]
  },
  {
   "cell_type": "code",
   "execution_count": 8,
   "id": "fd641e4d",
   "metadata": {},
   "outputs": [],
   "source": [
    "Q7 = 'spam'+'spamspam'"
   ]
  },
  {
   "cell_type": "code",
   "execution_count": 10,
   "id": "97dbe43d",
   "metadata": {},
   "outputs": [
    {
     "data": {
      "text/plain": [
       "'spamspamspam'"
      ]
     },
     "execution_count": 10,
     "metadata": {},
     "output_type": "execute_result"
    }
   ],
   "source": [
    "Q7"
   ]
  },
  {
   "cell_type": "code",
   "execution_count": 11,
   "id": "8395ee16",
   "metadata": {},
   "outputs": [],
   "source": [
    "Q7 = 'spam'*3"
   ]
  },
  {
   "cell_type": "code",
   "execution_count": 12,
   "id": "c3cae119",
   "metadata": {},
   "outputs": [
    {
     "data": {
      "text/plain": [
       "'spamspamspam'"
      ]
     },
     "execution_count": 12,
     "metadata": {},
     "output_type": "execute_result"
    }
   ],
   "source": [
    "Q7"
   ]
  },
  {
   "cell_type": "raw",
   "id": "49ecd577",
   "metadata": {},
   "source": [
    "Ans of Q7 : Value of both terms is 'spamspamspam'"
   ]
  },
  {
   "cell_type": "raw",
   "id": "cf0aaf06",
   "metadata": {},
   "source": [
    "Q8. Why is eggs a valid variable name while 100 is invalid?\n",
    "Ans:\n",
    "Eggs is a string means group of alphabets . and 100 is an integer.\n",
    "we cannot give variable an integer name.\n",
    "bt we can give e100 or eggs100 as an variable name. because it starts with an alphabet."
   ]
  },
  {
   "cell_type": "raw",
   "id": "00406bc9",
   "metadata": {},
   "source": [
    "Q9. What three functions can be used to get the integer, floating-point number, or string\n",
    "version of a value?\n",
    "Ans : int()\n",
    "      float()\n",
    "      str()"
   ]
  },
  {
   "cell_type": "code",
   "execution_count": 14,
   "id": "f4e51ea0",
   "metadata": {},
   "outputs": [
    {
     "name": "stdout",
     "output_type": "stream",
     "text": [
      "Object `it` not found.\n"
     ]
    }
   ],
   "source": [
    "10. Why does this expression cause an error? How can you fix it?"
   ]
  },
  {
   "cell_type": "raw",
   "id": "93223212",
   "metadata": {},
   "source": [
    "10. Why does this expression cause an error? How can you fix it\n",
    "'I have eaten '+ 99 +'burritos.'\n",
    "\n",
    "Ans: This expression causes error because this string is enclosed with single inverted commas. it will execute if we enclose the string with double inverted commas like this.\n",
    "\"I have eaten'+ 99 +' burritos\""
   ]
  },
  {
   "cell_type": "code",
   "execution_count": null,
   "id": "8b31d181",
   "metadata": {},
   "outputs": [],
   "source": []
  }
 ],
 "metadata": {
  "kernelspec": {
   "display_name": "Python 3 (ipykernel)",
   "language": "python",
   "name": "python3"
  },
  "language_info": {
   "codemirror_mode": {
    "name": "ipython",
    "version": 3
   },
   "file_extension": ".py",
   "mimetype": "text/x-python",
   "name": "python",
   "nbconvert_exporter": "python",
   "pygments_lexer": "ipython3",
   "version": "3.9.12"
  }
 },
 "nbformat": 4,
 "nbformat_minor": 5
}
