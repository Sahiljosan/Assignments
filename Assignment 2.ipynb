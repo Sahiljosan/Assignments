{
 "cells": [
  {
   "cell_type": "markdown",
   "id": "ae96a0cc",
   "metadata": {},
   "source": [
    "# Assignment 2 Solutions"
   ]
  },
  {
   "cell_type": "markdown",
   "id": "b01b4eeb",
   "metadata": {},
   "source": [
    "# 1.What are the two values of the Boolean data type? How do you write them?"
   ]
  },
  {
   "cell_type": "markdown",
   "id": "16bdc306",
   "metadata": {},
   "source": [
    "Ans: The two values of the boolen data types are True and False. It can be written as capital T and F and rest of the word in lower case."
   ]
  },
  {
   "cell_type": "code",
   "execution_count": 7,
   "id": "9c4c9d4c",
   "metadata": {},
   "outputs": [
    {
     "name": "stdout",
     "output_type": "stream",
     "text": [
      "True <class 'bool'>\n",
      "False <class 'bool'>\n"
     ]
    }
   ],
   "source": [
    "# Example\n",
    "a = True\n",
    "b = False\n",
    "print(a, type(a))\n",
    "print(b, type(b))"
   ]
  },
  {
   "cell_type": "markdown",
   "id": "4503b0ab",
   "metadata": {},
   "source": [
    "# 2. What are the three different types of Boolean operators?"
   ]
  },
  {
   "cell_type": "markdown",
   "id": "944894ae",
   "metadata": {},
   "source": [
    "Ans: Three different types of Boolean operators are: \" and \", \" or \", \" not \" "
   ]
  },
  {
   "cell_type": "code",
   "execution_count": 8,
   "id": "0d41d838",
   "metadata": {},
   "outputs": [
    {
     "name": "stdout",
     "output_type": "stream",
     "text": [
      "True\n",
      "True\n",
      "False\n"
     ]
    }
   ],
   "source": [
    "a = 50\n",
    "b = 200\n",
    "print(a<100 and b > 100) # Example of Boolean \" and \"\n",
    "print(a<100 or b > 100)  # Example of Boolean \" or \"\n",
    "print(not(a>10))         # Example of Boolean \" not \""
   ]
  },
  {
   "cell_type": "markdown",
   "id": "80795a14",
   "metadata": {},
   "source": [
    "# 3. Make a list of each Boolean operator's truth tables (i.e. every possible combination of Boolean values for the operator and what it evaluate )."
   ]
  },
  {
   "cell_type": "code",
   "execution_count": 21,
   "id": "2113c7cf",
   "metadata": {},
   "outputs": [
    {
     "name": "stdout",
     "output_type": "stream",
     "text": [
      "Truth table of \"and\" operator \n",
      "\n",
      "True and True is   : True\n",
      "True and False is  : False\n",
      "False and True is  : False\n",
      "False and False is : False\n"
     ]
    }
   ],
   "source": [
    "a = True and True\n",
    "b = True and False\n",
    "c = False and True\n",
    "d = False and False\n",
    "print(\"\"\"Truth table of \"and\" operator\"\"\", \"\\n\")\n",
    "\n",
    "print(\"True and True is   :\",a)\n",
    "print(\"True and False is  :\",b)\n",
    "print(\"False and True is  :\",c)\n",
    "print(\"False and False is :\",d)"
   ]
  },
  {
   "cell_type": "code",
   "execution_count": 22,
   "id": "5092e454",
   "metadata": {},
   "outputs": [
    {
     "name": "stdout",
     "output_type": "stream",
     "text": [
      "Truth table of \"or\" operator \n",
      "\n",
      "True or True is   : True\n",
      "True or False is  : True\n",
      "False or True is  : True\n",
      "False or False is : False\n"
     ]
    }
   ],
   "source": [
    "a = True or True\n",
    "b = True or False\n",
    "c = False or True\n",
    "d = False or False\n",
    "print(\"\"\"Truth table of \"or\" operator\"\"\", \"\\n\")\n",
    "\n",
    "print(\"True or True is   :\",a)\n",
    "print(\"True or False is  :\",b)\n",
    "print(\"False or True is  :\",c)\n",
    "print(\"False or False is :\",d)"
   ]
  },
  {
   "cell_type": "code",
   "execution_count": 26,
   "id": "09c88020",
   "metadata": {},
   "outputs": [
    {
     "name": "stdout",
     "output_type": "stream",
     "text": [
      "Truth table of \"not\" operator \n",
      "\n",
      "not True is  : False\n",
      "not False is : True\n"
     ]
    }
   ],
   "source": [
    "a = not True\n",
    "b = not False\n",
    "print(\"\"\"Truth table of \"not\" operator\"\"\", \"\\n\")\n",
    "\n",
    "print(\"not True is  :\",a)\n",
    "print(\"not False is :\",b)"
   ]
  },
  {
   "cell_type": "markdown",
   "id": "43dc1e7f",
   "metadata": {},
   "source": [
    "# 4. What are the values of the following expressions?"
   ]
  },
  {
   "cell_type": "markdown",
   "id": "f1caee25",
   "metadata": {},
   "source": [
    "(5 > 4) and (3 == 5)\n",
    "\n",
    "not (5 > 4)\n",
    "\n",
    "(5 > 4) or (3 == 5)\n",
    "\n",
    "not ((5 > 4) or (3 == 5))\n",
    "\n",
    "(True and True) and (True == False)\n",
    "\n",
    "(not False) or (not True)"
   ]
  },
  {
   "cell_type": "code",
   "execution_count": 29,
   "id": "08181464",
   "metadata": {},
   "outputs": [
    {
     "name": "stdout",
     "output_type": "stream",
     "text": [
      "False\n"
     ]
    }
   ],
   "source": [
    "print((5 > 4) and (3 == 5))   # False"
   ]
  },
  {
   "cell_type": "code",
   "execution_count": 32,
   "id": "01fcd4a5",
   "metadata": {},
   "outputs": [
    {
     "name": "stdout",
     "output_type": "stream",
     "text": [
      "False\n"
     ]
    }
   ],
   "source": [
    "print(not (5 > 4))            # (5>4) is not true = false"
   ]
  },
  {
   "cell_type": "code",
   "execution_count": 34,
   "id": "bc84a3fb",
   "metadata": {},
   "outputs": [
    {
     "name": "stdout",
     "output_type": "stream",
     "text": [
      "True\n"
     ]
    }
   ],
   "source": [
    "print((5 > 4) or (3 == 5))    # True"
   ]
  },
  {
   "cell_type": "code",
   "execution_count": 35,
   "id": "b46d905f",
   "metadata": {},
   "outputs": [
    {
     "name": "stdout",
     "output_type": "stream",
     "text": [
      "False\n"
     ]
    }
   ],
   "source": [
    "print(not ((5 > 4) or (3 == 5)))   # False"
   ]
  },
  {
   "cell_type": "code",
   "execution_count": 36,
   "id": "05892f24",
   "metadata": {},
   "outputs": [
    {
     "name": "stdout",
     "output_type": "stream",
     "text": [
      "False\n"
     ]
    }
   ],
   "source": [
    "print((True and True) and (True == False))  # False"
   ]
  },
  {
   "cell_type": "code",
   "execution_count": 37,
   "id": "4b902f9c",
   "metadata": {},
   "outputs": [
    {
     "name": "stdout",
     "output_type": "stream",
     "text": [
      "True\n"
     ]
    }
   ],
   "source": [
    "print((not False) or (not True))   # true"
   ]
  },
  {
   "cell_type": "markdown",
   "id": "035181b2",
   "metadata": {},
   "source": [
    "# 5. What are the six comparison operators?"
   ]
  },
  {
   "cell_type": "markdown",
   "id": "3ec8f6e3",
   "metadata": {},
   "source": [
    "Ans:\n",
    "The Six comparision operators available in python are. \n",
    "\n",
    "    <= , =>, == , != , < , > "
   ]
  },
  {
   "cell_type": "markdown",
   "id": "f7c27e3d",
   "metadata": {},
   "source": [
    "# 6. How do you tell the difference between the equal to and assignment operators? Describe a condition and when you would use one."
   ]
  },
  {
   "cell_type": "markdown",
   "id": "6e3c940c",
   "metadata": {},
   "source": [
    " Ans:\n",
    " \n",
    " \" == \" is the equal to operator that compares two values and evaluates to a Boolean.\n",
    " \n",
    " \" = \" is that assignment operator that stores a value in a variable."
   ]
  },
  {
   "cell_type": "code",
   "execution_count": 40,
   "id": "b5feb0bb",
   "metadata": {},
   "outputs": [
    {
     "name": "stdout",
     "output_type": "stream",
     "text": [
      "True\n"
     ]
    }
   ],
   "source": [
    "m = 10       # Assigning operator that stores 10 value in a variable m\n",
    "if m == 10:  # equal to operator that compares two values and evaluates to a Boolean.\n",
    "    print(m == 10)"
   ]
  },
  {
   "cell_type": "markdown",
   "id": "c0dfcbe9",
   "metadata": {},
   "source": [
    "# 7. Identify the three blocks in this code:"
   ]
  },
  {
   "cell_type": "markdown",
   "id": "c6812395",
   "metadata": {},
   "source": [
    "spam = 0\n",
    "\n",
    "if spam == 10:\n",
    "\n",
    "print('eggs')\n",
    "\n",
    "if spam > 5:\n",
    "\n",
    "print('bacon')\n",
    "\n",
    "else:\n",
    "\n",
    "print('ham')\n",
    "\n",
    "print('spam')\n",
    "\n",
    "print('spam')"
   ]
  },
  {
   "cell_type": "code",
   "execution_count": 42,
   "id": "257456a4",
   "metadata": {},
   "outputs": [
    {
     "name": "stdout",
     "output_type": "stream",
     "text": [
      "ham\n",
      "spam\n",
      "spam\n"
     ]
    }
   ],
   "source": [
    "spam = 0\n",
    "if spam == 10:\n",
    "    print('eggs')  # block 1\n",
    "if spam > 5:\n",
    "    print('bacon') # block 2\n",
    "else:\n",
    "    print('ham')   # block 3\n",
    "print('spam')\n",
    "print('spam')"
   ]
  },
  {
   "cell_type": "markdown",
   "id": "f004a7c6",
   "metadata": {},
   "source": [
    "# 8. Write code that prints Hello if 1 is stored in spam, prints Howdy if 2 is stored in spam, and prints Greetings! if anything else is stored in spam."
   ]
  },
  {
   "cell_type": "code",
   "execution_count": 14,
   "id": "3a60c368",
   "metadata": {},
   "outputs": [
    {
     "name": "stdout",
     "output_type": "stream",
     "text": [
      "Enter any number : 1\n",
      "Hello\n"
     ]
    }
   ],
   "source": [
    "spam = int(input(\"Enter any number : \"))\n",
    "\n",
    "if spam == 1:\n",
    "    print(\"Hello\")\n",
    "elif spam == 2:    \n",
    "    print(\"Howdy\")\n",
    "else:\n",
    "    print(\"Greetings\")"
   ]
  },
  {
   "cell_type": "code",
   "execution_count": 15,
   "id": "550bc01d",
   "metadata": {},
   "outputs": [
    {
     "name": "stdout",
     "output_type": "stream",
     "text": [
      "Enter any number : 2\n",
      "Howdy\n"
     ]
    }
   ],
   "source": [
    "spam = int(input(\"Enter any number : \"))\n",
    "\n",
    "if spam == 1:\n",
    "    print(\"Hello\")\n",
    "elif spam == 2:    \n",
    "    print(\"Howdy\")\n",
    "else:\n",
    "    print(\"Greetings\")"
   ]
  },
  {
   "cell_type": "code",
   "execution_count": 16,
   "id": "2f8142d4",
   "metadata": {},
   "outputs": [
    {
     "name": "stdout",
     "output_type": "stream",
     "text": [
      "Enter any number : 3\n",
      "Greetings\n"
     ]
    }
   ],
   "source": [
    "spam = int(input(\"Enter any number : \"))\n",
    "\n",
    "if spam == 1:\n",
    "    print(\"Hello\")\n",
    "elif spam == 2:    \n",
    "    print(\"Howdy\")\n",
    "else:\n",
    "    print(\"Greetings\")"
   ]
  },
  {
   "cell_type": "code",
   "execution_count": 21,
   "id": "bbfd5dc6",
   "metadata": {},
   "outputs": [
    {
     "name": "stdout",
     "output_type": "stream",
     "text": [
      "Enter any number : 241\n",
      "Greetings\n"
     ]
    }
   ],
   "source": [
    "spam = int(input(\"Enter any number : \"))\n",
    "\n",
    "if spam == 1:\n",
    "    print(\"Hello\")\n",
    "elif spam == 2:    \n",
    "    print(\"Howdy\")\n",
    "else:\n",
    "    print(\"Greetings\")\n",
    "    "
   ]
  },
  {
   "cell_type": "markdown",
   "id": "09c728be",
   "metadata": {},
   "source": [
    "# 9.If your programme is stuck in an endless loop, what keys you’ll press?"
   ]
  },
  {
   "cell_type": "markdown",
   "id": "f6cbba3f",
   "metadata": {},
   "source": [
    "Ans :  Press Ctrl+c to stop a program stuck in an infinite loop "
   ]
  },
  {
   "cell_type": "markdown",
   "id": "d171e102",
   "metadata": {},
   "source": [
    "# 10. How can you tell the difference between break and continue?"
   ]
  },
  {
   "cell_type": "markdown",
   "id": "dbddccd4",
   "metadata": {},
   "source": [
    "Ans : The \"break\" statement will move the execution outside the loop if break condition is satisfied . Whereas the continue statement will move the execution to the start of the loop"
   ]
  },
  {
   "cell_type": "markdown",
   "id": "bd50605f",
   "metadata": {},
   "source": [
    "# 11. In a for loop, what is the difference between range(10), range(0, 10), and range(0, 10, 1)?"
   ]
  },
  {
   "cell_type": "code",
   "execution_count": null,
   "id": "8bdd1ff5",
   "metadata": {},
   "outputs": [],
   "source": [
    "Ans : There is no difference in the above 3 range but we can say that\n",
    "    \n",
    "    1) The range(10) call range from 0 to 9 (but not include 10)\n",
    "    2) The range(0,10) tells the loop to start from 0 \n",
    "    3) The range(0,10,1) tells the loop to increase the variable by 1 on each iteration."
   ]
  },
  {
   "cell_type": "markdown",
   "id": "75e36b46",
   "metadata": {},
   "source": [
    "# 12. Write a short program that prints the numbers 1 to 10 using a for loop. Then write an equivalent program that prints the numbers 1 to 10 using a while loop."
   ]
  },
  {
   "cell_type": "code",
   "execution_count": 2,
   "id": "afdc2282",
   "metadata": {},
   "outputs": [
    {
     "name": "stdout",
     "output_type": "stream",
     "text": [
      "---------- Using For loop ----------\n",
      "0 1 2 3 4 5 6 7 8 9 \n",
      "\n",
      "---------- Using While loop ----------\n",
      "0 1 2 3 4 5 6 7 8 9 "
     ]
    }
   ],
   "source": [
    "print(\"-\"*10, \"Using For loop\",\"-\"*10)\n",
    "\n",
    "for i in range(10):       # Using For loop\n",
    "    print(i, end = \" \")\n",
    "    \n",
    "print(\"\\n\")\n",
    "\n",
    "\n",
    "print(\"-\"*10, \"Using While loop\",\"-\"*10)\n",
    "a = 0                     # Using While loop\n",
    "while a < 10:\n",
    "    print(a ,end = \" \")\n",
    "    a += 1"
   ]
  },
  {
   "cell_type": "markdown",
   "id": "b9feda52",
   "metadata": {},
   "source": [
    "# 13. If you had a function named bacon() inside a module named spam, how would you call it after importing spam?"
   ]
  },
  {
   "cell_type": "code",
   "execution_count": null,
   "id": "73e4dfb2",
   "metadata": {},
   "outputs": [],
   "source": [
    "Ans : This function can be called with spam.bacon()"
   ]
  },
  {
   "cell_type": "code",
   "execution_count": null,
   "id": "f0c8b82a",
   "metadata": {},
   "outputs": [],
   "source": []
  }
 ],
 "metadata": {
  "kernelspec": {
   "display_name": "Python 3 (ipykernel)",
   "language": "python",
   "name": "python3"
  },
  "language_info": {
   "codemirror_mode": {
    "name": "ipython",
    "version": 3
   },
   "file_extension": ".py",
   "mimetype": "text/x-python",
   "name": "python",
   "nbconvert_exporter": "python",
   "pygments_lexer": "ipython3",
   "version": "3.9.12"
  }
 },
 "nbformat": 4,
 "nbformat_minor": 5
}
